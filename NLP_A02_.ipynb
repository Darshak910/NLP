{
  "nbformat": 4,
  "nbformat_minor": 0,
  "metadata": {
    "colab": {
      "name": "NLP_A02_.ipynb",
      "provenance": [],
      "collapsed_sections": [],
      "machine_shape": "hm",
      "include_colab_link": true
    },
    "kernelspec": {
      "name": "python3",
      "display_name": "Python 3"
    },
    "accelerator": "GPU"
  },
  "cells": [
    {
      "cell_type": "markdown",
      "metadata": {
        "id": "view-in-github",
        "colab_type": "text"
      },
      "source": [
        "<a href=\"https://colab.research.google.com/github/Darshak910/NLP/blob/master/NLP_A02_.ipynb\" target=\"_parent\"><img src=\"https://colab.research.google.com/assets/colab-badge.svg\" alt=\"Open In Colab\"/></a>"
      ]
    },
    {
      "cell_type": "code",
      "metadata": {
        "id": "Q7XwofyH6clm",
        "colab_type": "code",
        "outputId": "29de0221-5a18-45d2-f555-9d656b1b165d",
        "colab": {
          "base_uri": "https://localhost:8080/",
          "height": 54
        }
      },
      "source": [
        "from google.colab import drive\n",
        "drive.mount('/content/drive')"
      ],
      "execution_count": 1,
      "outputs": [
        {
          "output_type": "stream",
          "text": [
            "Drive already mounted at /content/drive; to attempt to forcibly remount, call drive.mount(\"/content/drive\", force_remount=True).\n"
          ],
          "name": "stdout"
        }
      ]
    },
    {
      "cell_type": "code",
      "metadata": {
        "id": "AtqWljrxpao5",
        "colab_type": "code",
        "outputId": "3a37282a-6079-4ad0-fde4-660adde196fa",
        "colab": {
          "base_uri": "https://localhost:8080/",
          "height": 51
        }
      },
      "source": [
        "# Installing pytorch-ignite\n",
        "!pip install pytorch-ignite"
      ],
      "execution_count": 2,
      "outputs": [
        {
          "output_type": "stream",
          "text": [
            "Requirement already satisfied: pytorch-ignite in /usr/local/lib/python3.6/dist-packages (0.3.0)\n",
            "Requirement already satisfied: torch in /usr/local/lib/python3.6/dist-packages (from pytorch-ignite) (1.4.0)\n"
          ],
          "name": "stdout"
        }
      ]
    },
    {
      "cell_type": "code",
      "metadata": {
        "id": "tx8ynXrV6fX7",
        "colab_type": "code",
        "colab": {}
      },
      "source": [
        "# Importing all the required libraries\n",
        "import numpy as np\n",
        "import matplotlib.pyplot as plt\n",
        "import pandas as pd\n",
        "from pandas.plotting import table\n",
        "\n",
        "from sklearn.model_selection import train_test_split\n",
        "from sklearn.feature_extraction.text import CountVectorizer, TfidfVectorizer\n",
        "from sklearn.utils import resample\n",
        "from sklearn.metrics import f1_score, accuracy_score, precision_score, recall_score\n",
        "\n",
        "import nltk\n",
        "from nltk.corpus import stopwords\n",
        "from nltk.stem import WordNetLemmatizer, PorterStemmer, LancasterStemmer\n",
        "\n",
        "import torch\n",
        "from torch.nn import Conv1d, MaxPool1d, Flatten, Linear\n",
        "from torch.nn import L1Loss, CrossEntropyLoss, Dropout\n",
        "from torch.nn.functional import relu, softmax, sigmoid\n",
        "from torch.utils.data import DataLoader, TensorDataset\n",
        "from torch.optim import SGD, Adam, SparseAdam, Adamax\n",
        "from ignite.metrics import Accuracy, Recall, Precision"
      ],
      "execution_count": 0,
      "outputs": []
    },
    {
      "cell_type": "code",
      "metadata": {
        "id": "osVA4TfOzSKd",
        "colab_type": "code",
        "outputId": "6a856d75-7e8a-40a6-a2f4-23f9c2ec245e",
        "colab": {
          "base_uri": "https://localhost:8080/",
          "height": 359
        }
      },
      "source": [
        "# Reading the dataset and saving to pandas dataframe\n",
        "ds = pd.read_csv('https://raw.githubusercontent.com/cacoderquan/Sentiment-Analysis-on-the-Rotten-Tomatoes-movie-review-dataset/master/train.tsv',\n",
        "                 delimiter='\\t')\n",
        "ds.head(10)"
      ],
      "execution_count": 4,
      "outputs": [
        {
          "output_type": "execute_result",
          "data": {
            "text/html": [
              "<div>\n",
              "<style scoped>\n",
              "    .dataframe tbody tr th:only-of-type {\n",
              "        vertical-align: middle;\n",
              "    }\n",
              "\n",
              "    .dataframe tbody tr th {\n",
              "        vertical-align: top;\n",
              "    }\n",
              "\n",
              "    .dataframe thead th {\n",
              "        text-align: right;\n",
              "    }\n",
              "</style>\n",
              "<table border=\"1\" class=\"dataframe\">\n",
              "  <thead>\n",
              "    <tr style=\"text-align: right;\">\n",
              "      <th></th>\n",
              "      <th>PhraseId</th>\n",
              "      <th>SentenceId</th>\n",
              "      <th>Phrase</th>\n",
              "      <th>Sentiment</th>\n",
              "    </tr>\n",
              "  </thead>\n",
              "  <tbody>\n",
              "    <tr>\n",
              "      <th>0</th>\n",
              "      <td>1</td>\n",
              "      <td>1</td>\n",
              "      <td>A series of escapades demonstrating the adage ...</td>\n",
              "      <td>1</td>\n",
              "    </tr>\n",
              "    <tr>\n",
              "      <th>1</th>\n",
              "      <td>2</td>\n",
              "      <td>1</td>\n",
              "      <td>A series of escapades demonstrating the adage ...</td>\n",
              "      <td>2</td>\n",
              "    </tr>\n",
              "    <tr>\n",
              "      <th>2</th>\n",
              "      <td>3</td>\n",
              "      <td>1</td>\n",
              "      <td>A series</td>\n",
              "      <td>2</td>\n",
              "    </tr>\n",
              "    <tr>\n",
              "      <th>3</th>\n",
              "      <td>4</td>\n",
              "      <td>1</td>\n",
              "      <td>A</td>\n",
              "      <td>2</td>\n",
              "    </tr>\n",
              "    <tr>\n",
              "      <th>4</th>\n",
              "      <td>5</td>\n",
              "      <td>1</td>\n",
              "      <td>series</td>\n",
              "      <td>2</td>\n",
              "    </tr>\n",
              "    <tr>\n",
              "      <th>5</th>\n",
              "      <td>6</td>\n",
              "      <td>1</td>\n",
              "      <td>of escapades demonstrating the adage that what...</td>\n",
              "      <td>2</td>\n",
              "    </tr>\n",
              "    <tr>\n",
              "      <th>6</th>\n",
              "      <td>7</td>\n",
              "      <td>1</td>\n",
              "      <td>of</td>\n",
              "      <td>2</td>\n",
              "    </tr>\n",
              "    <tr>\n",
              "      <th>7</th>\n",
              "      <td>8</td>\n",
              "      <td>1</td>\n",
              "      <td>escapades demonstrating the adage that what is...</td>\n",
              "      <td>2</td>\n",
              "    </tr>\n",
              "    <tr>\n",
              "      <th>8</th>\n",
              "      <td>9</td>\n",
              "      <td>1</td>\n",
              "      <td>escapades</td>\n",
              "      <td>2</td>\n",
              "    </tr>\n",
              "    <tr>\n",
              "      <th>9</th>\n",
              "      <td>10</td>\n",
              "      <td>1</td>\n",
              "      <td>demonstrating the adage that what is good for ...</td>\n",
              "      <td>2</td>\n",
              "    </tr>\n",
              "  </tbody>\n",
              "</table>\n",
              "</div>"
            ],
            "text/plain": [
              "   PhraseId  ...  Sentiment\n",
              "0         1  ...          1\n",
              "1         2  ...          2\n",
              "2         3  ...          2\n",
              "3         4  ...          2\n",
              "4         5  ...          2\n",
              "5         6  ...          2\n",
              "6         7  ...          2\n",
              "7         8  ...          2\n",
              "8         9  ...          2\n",
              "9        10  ...          2\n",
              "\n",
              "[10 rows x 4 columns]"
            ]
          },
          "metadata": {
            "tags": []
          },
          "execution_count": 4
        }
      ]
    },
    {
      "cell_type": "code",
      "metadata": {
        "id": "m-eGL2K6_77U",
        "colab_type": "code",
        "outputId": "adb5d48d-cc23-4670-9479-66b41cccc735",
        "colab": {
          "base_uri": "https://localhost:8080/",
          "height": 359
        }
      },
      "source": [
        "# Saving only the two required columns\n",
        "ds = ds[['Phrase', 'Sentiment']]\n",
        "ds.head(10)"
      ],
      "execution_count": 5,
      "outputs": [
        {
          "output_type": "execute_result",
          "data": {
            "text/html": [
              "<div>\n",
              "<style scoped>\n",
              "    .dataframe tbody tr th:only-of-type {\n",
              "        vertical-align: middle;\n",
              "    }\n",
              "\n",
              "    .dataframe tbody tr th {\n",
              "        vertical-align: top;\n",
              "    }\n",
              "\n",
              "    .dataframe thead th {\n",
              "        text-align: right;\n",
              "    }\n",
              "</style>\n",
              "<table border=\"1\" class=\"dataframe\">\n",
              "  <thead>\n",
              "    <tr style=\"text-align: right;\">\n",
              "      <th></th>\n",
              "      <th>Phrase</th>\n",
              "      <th>Sentiment</th>\n",
              "    </tr>\n",
              "  </thead>\n",
              "  <tbody>\n",
              "    <tr>\n",
              "      <th>0</th>\n",
              "      <td>A series of escapades demonstrating the adage ...</td>\n",
              "      <td>1</td>\n",
              "    </tr>\n",
              "    <tr>\n",
              "      <th>1</th>\n",
              "      <td>A series of escapades demonstrating the adage ...</td>\n",
              "      <td>2</td>\n",
              "    </tr>\n",
              "    <tr>\n",
              "      <th>2</th>\n",
              "      <td>A series</td>\n",
              "      <td>2</td>\n",
              "    </tr>\n",
              "    <tr>\n",
              "      <th>3</th>\n",
              "      <td>A</td>\n",
              "      <td>2</td>\n",
              "    </tr>\n",
              "    <tr>\n",
              "      <th>4</th>\n",
              "      <td>series</td>\n",
              "      <td>2</td>\n",
              "    </tr>\n",
              "    <tr>\n",
              "      <th>5</th>\n",
              "      <td>of escapades demonstrating the adage that what...</td>\n",
              "      <td>2</td>\n",
              "    </tr>\n",
              "    <tr>\n",
              "      <th>6</th>\n",
              "      <td>of</td>\n",
              "      <td>2</td>\n",
              "    </tr>\n",
              "    <tr>\n",
              "      <th>7</th>\n",
              "      <td>escapades demonstrating the adage that what is...</td>\n",
              "      <td>2</td>\n",
              "    </tr>\n",
              "    <tr>\n",
              "      <th>8</th>\n",
              "      <td>escapades</td>\n",
              "      <td>2</td>\n",
              "    </tr>\n",
              "    <tr>\n",
              "      <th>9</th>\n",
              "      <td>demonstrating the adage that what is good for ...</td>\n",
              "      <td>2</td>\n",
              "    </tr>\n",
              "  </tbody>\n",
              "</table>\n",
              "</div>"
            ],
            "text/plain": [
              "                                              Phrase  Sentiment\n",
              "0  A series of escapades demonstrating the adage ...          1\n",
              "1  A series of escapades demonstrating the adage ...          2\n",
              "2                                           A series          2\n",
              "3                                                  A          2\n",
              "4                                             series          2\n",
              "5  of escapades demonstrating the adage that what...          2\n",
              "6                                                 of          2\n",
              "7  escapades demonstrating the adage that what is...          2\n",
              "8                                          escapades          2\n",
              "9  demonstrating the adage that what is good for ...          2"
            ]
          },
          "metadata": {
            "tags": []
          },
          "execution_count": 5
        }
      ]
    },
    {
      "cell_type": "code",
      "metadata": {
        "id": "3bv_wPw5ecGe",
        "colab_type": "code",
        "outputId": "b0b86c75-65a3-48e8-b32b-f0bf9db873e8",
        "colab": {
          "base_uri": "https://localhost:8080/",
          "height": 34
        }
      },
      "source": [
        "ds['Phrase'][1]"
      ],
      "execution_count": 6,
      "outputs": [
        {
          "output_type": "execute_result",
          "data": {
            "text/plain": [
              "'A series of escapades demonstrating the adage that what is good for the goose'"
            ]
          },
          "metadata": {
            "tags": []
          },
          "execution_count": 6
        }
      ]
    },
    {
      "cell_type": "code",
      "metadata": {
        "id": "kxRoK0JW7nqt",
        "colab_type": "code",
        "outputId": "3176c490-0781-45bb-816b-d3f9ca19beba",
        "colab": {
          "base_uri": "https://localhost:8080/",
          "height": 136
        }
      },
      "source": [
        "# Downloading the stopwords and wordnet corpus\n",
        "nltk.download('punkt')\n",
        "nltk.download('stopwords')\n",
        "nltk.download('wordnet')"
      ],
      "execution_count": 7,
      "outputs": [
        {
          "output_type": "stream",
          "text": [
            "[nltk_data] Downloading package punkt to /root/nltk_data...\n",
            "[nltk_data]   Package punkt is already up-to-date!\n",
            "[nltk_data] Downloading package stopwords to /root/nltk_data...\n",
            "[nltk_data]   Package stopwords is already up-to-date!\n",
            "[nltk_data] Downloading package wordnet to /root/nltk_data...\n",
            "[nltk_data]   Package wordnet is already up-to-date!\n"
          ],
          "name": "stdout"
        },
        {
          "output_type": "execute_result",
          "data": {
            "text/plain": [
              "True"
            ]
          },
          "metadata": {
            "tags": []
          },
          "execution_count": 7
        }
      ]
    },
    {
      "cell_type": "code",
      "metadata": {
        "id": "QbJ1S5URcrlE",
        "colab_type": "code",
        "colab": {}
      },
      "source": [
        "porter_stemmer = PorterStemmer()\n",
        "lancaster_stemmer = LancasterStemmer()\n",
        "wordnet_lemmatizer = WordNetLemmatizer()\n",
        "stopwords_en = stopwords.words(\"english\")\n",
        "punctuations = \"?:!.,;'\\\"-()/\\\\{}[]|\"\n",
        "\n",
        "# Parameters to adjust to see the impact on outcome\n",
        "remove_stopwords = True\n",
        "use_stemming = True\n",
        "use_lemmatization = False\n",
        "remove_punctuations = True"
      ],
      "execution_count": 0,
      "outputs": []
    },
    {
      "cell_type": "code",
      "metadata": {
        "id": "XsHU4qyCmDEt",
        "colab_type": "code",
        "outputId": "0430b573-08ba-4669-9a45-1c76df76527c",
        "colab": {
          "base_uri": "https://localhost:8080/",
          "height": 34
        }
      },
      "source": [
        "len(ds)"
      ],
      "execution_count": 9,
      "outputs": [
        {
          "output_type": "execute_result",
          "data": {
            "text/plain": [
              "156060"
            ]
          },
          "metadata": {
            "tags": []
          },
          "execution_count": 9
        }
      ]
    },
    {
      "cell_type": "code",
      "metadata": {
        "id": "OgoP_GhjVXlW",
        "colab_type": "code",
        "outputId": "d850fc3f-18b0-41b2-cda9-2f012428d9d8",
        "colab": {
          "base_uri": "https://localhost:8080/",
          "height": 221
        }
      },
      "source": [
        "# Split the dataset with 70% for Training set and 30% for Testing set\n",
        "# Shuffling the dataset with random state set to 2003\n",
        "x_train, x_test, y_train, y_test = train_test_split(\n",
        "    ds['Phrase'], ds['Sentiment'], test_size=0.3,\n",
        "    shuffle='True', random_state=2003)\n",
        "\n",
        "train_ds = pd.DataFrame(list(zip(x_train, y_train)), columns=['Phrase', 'Sentiment'])\n",
        "test_ds = pd.DataFrame(list(zip(x_test, y_test)), columns=['Phrase', 'Sentiment'])\n",
        "\n",
        "print(test_ds['Phrase'])"
      ],
      "execution_count": 10,
      "outputs": [
        {
          "output_type": "stream",
          "text": [
            "0                                         veteran\n",
            "1                                many definitions\n",
            "2                            a worthwhile glimpse\n",
            "3                               past Seagal films\n",
            "4                                    banal script\n",
            "                           ...                   \n",
            "46813                                the very end\n",
            "46814    self-consciously flashy camera effects ,\n",
            "46815                        a half-hearted fluke\n",
            "46816                       's certainly laudable\n",
            "46817                                 human drama\n",
            "Name: Phrase, Length: 46818, dtype: object\n"
          ],
          "name": "stdout"
        }
      ]
    },
    {
      "cell_type": "code",
      "metadata": {
        "id": "ZrhBXGCnc8jv",
        "colab_type": "code",
        "colab": {}
      },
      "source": [
        "# Pre-processing for the Training set\n",
        "X, Y = [], []\n",
        "\n",
        "# For every single label save the Sentiment label\n",
        "for y in range(len(train_ds)):\n",
        "  label = train_ds['Sentiment'][y]\n",
        "  temp_phrase = []\n",
        "\n",
        "  # Split the phrase to words and setting the text to lowercase\n",
        "  space = str(train_ds['Phrase'][y]).lower().split(' ')\n",
        "  # print(space)\n",
        "\n",
        "  # For each word in the Phrase\n",
        "  for word in space:\n",
        "    new_word = word\n",
        "\n",
        "    # Giving conditional procedures according to stopwords and punctuations\n",
        "    if(word in stopwords_en):\n",
        "      continue\n",
        "    if(word in punctuations):\n",
        "      continue\n",
        "    \n",
        "    # Condition specifying if stemming is used or not\n",
        "    if(use_stemming):\n",
        "      # Using either Porter or Lancaster stemming\n",
        "      new_word = porter_stemmer.stem(new_word)\n",
        "      # new_word = lancaster_stemmer.stem(new_word)\n",
        "    \n",
        "    # Condition specifying if lemmatization is used or not\n",
        "    if(use_lemmatization):\n",
        "      new_word = wordnet_lemmatizer.lemmatize(new_word)\n",
        "\n",
        "    # Adding normalized word to a temporary variable\n",
        "    temp_phrase.append(new_word)\n",
        "\n",
        "  # if(not temp_phrase == []):\n",
        "  X.append(temp_phrase)\n",
        "  Y.append(label)"
      ],
      "execution_count": 0,
      "outputs": []
    },
    {
      "cell_type": "code",
      "metadata": {
        "id": "cXx_7J_diOvS",
        "colab_type": "code",
        "outputId": "ff365426-cf19-49f6-f703-55c7b7920bf0",
        "colab": {
          "base_uri": "https://localhost:8080/",
          "height": 34
        }
      },
      "source": [
        "len(X)"
      ],
      "execution_count": 12,
      "outputs": [
        {
          "output_type": "execute_result",
          "data": {
            "text/plain": [
              "109242"
            ]
          },
          "metadata": {
            "tags": []
          },
          "execution_count": 12
        }
      ]
    },
    {
      "cell_type": "code",
      "metadata": {
        "id": "aqr1w7axt-pg",
        "colab_type": "code",
        "colab": {}
      },
      "source": [
        "# Joining the phrase\n",
        "for i in range(len(X)):\n",
        "  X[i] = ' '.join(X[i])"
      ],
      "execution_count": 0,
      "outputs": []
    },
    {
      "cell_type": "code",
      "metadata": {
        "id": "cGruaAju8-EC",
        "colab_type": "code",
        "outputId": "9fbe7cfe-7f7b-4c0b-cd8a-268cc37979cb",
        "colab": {
          "base_uri": "https://localhost:8080/",
          "height": 34
        }
      },
      "source": [
        "X[2]"
      ],
      "execution_count": 14,
      "outputs": [
        {
          "output_type": "execute_result",
          "data": {
            "text/plain": [
              "'fan gross-out comedi'"
            ]
          },
          "metadata": {
            "tags": []
          },
          "execution_count": 14
        }
      ]
    },
    {
      "cell_type": "code",
      "metadata": {
        "id": "HNgCYcudz0Dy",
        "colab_type": "code",
        "outputId": "5a4eed20-47eb-49b2-a3ea-a25f8ee783e1",
        "colab": {
          "base_uri": "https://localhost:8080/",
          "height": 34
        }
      },
      "source": [
        "len(X)"
      ],
      "execution_count": 15,
      "outputs": [
        {
          "output_type": "execute_result",
          "data": {
            "text/plain": [
              "109242"
            ]
          },
          "metadata": {
            "tags": []
          },
          "execution_count": 15
        }
      ]
    },
    {
      "cell_type": "code",
      "metadata": {
        "id": "0rLD0Xa7311U",
        "colab_type": "code",
        "outputId": "e2d05bef-ca6f-4635-a914-f32aaa310936",
        "colab": {
          "base_uri": "https://localhost:8080/",
          "height": 34
        }
      },
      "source": [
        "# Merging two lists into a tuple using zip() method and converting the lists of\n",
        "# tuples to Pandas DataFrame and setting the column name\n",
        "ds_train = pd.DataFrame(list(zip(X, Y)), columns=['Phrase', 'Sentiment'])\n",
        "\n",
        "# Replacing the blank cells with NaN in the DataFrame\n",
        "ds_train['Phrase'].replace('', np.nan, inplace=True)\n",
        "\n",
        "# Dropping all the NaN values from the DataFrame\n",
        "ds_train.dropna(subset=['Phrase'], inplace=True)\n",
        "\n",
        "len(ds_train)"
      ],
      "execution_count": 16,
      "outputs": [
        {
          "output_type": "execute_result",
          "data": {
            "text/plain": [
              "108578"
            ]
          },
          "metadata": {
            "tags": []
          },
          "execution_count": 16
        }
      ]
    },
    {
      "cell_type": "code",
      "metadata": {
        "id": "oSGX3X3-SZ_S",
        "colab_type": "code",
        "outputId": "9de0ef53-da2d-448d-c3db-05ebc0ba0741",
        "colab": {
          "base_uri": "https://localhost:8080/",
          "height": 419
        }
      },
      "source": [
        "ds_train"
      ],
      "execution_count": 17,
      "outputs": [
        {
          "output_type": "execute_result",
          "data": {
            "text/html": [
              "<div>\n",
              "<style scoped>\n",
              "    .dataframe tbody tr th:only-of-type {\n",
              "        vertical-align: middle;\n",
              "    }\n",
              "\n",
              "    .dataframe tbody tr th {\n",
              "        vertical-align: top;\n",
              "    }\n",
              "\n",
              "    .dataframe thead th {\n",
              "        text-align: right;\n",
              "    }\n",
              "</style>\n",
              "<table border=\"1\" class=\"dataframe\">\n",
              "  <thead>\n",
              "    <tr style=\"text-align: right;\">\n",
              "      <th></th>\n",
              "      <th>Phrase</th>\n",
              "      <th>Sentiment</th>\n",
              "    </tr>\n",
              "  </thead>\n",
              "  <tbody>\n",
              "    <tr>\n",
              "      <th>0</th>\n",
              "      <td>age</td>\n",
              "      <td>2</td>\n",
              "    </tr>\n",
              "    <tr>\n",
              "      <th>1</th>\n",
              "      <td>gorgeou epic</td>\n",
              "      <td>4</td>\n",
              "    </tr>\n",
              "    <tr>\n",
              "      <th>2</th>\n",
              "      <td>fan gross-out comedi</td>\n",
              "      <td>2</td>\n",
              "    </tr>\n",
              "    <tr>\n",
              "      <th>3</th>\n",
              "      <td>filmmak ascend liter olympu art world</td>\n",
              "      <td>4</td>\n",
              "    </tr>\n",
              "    <tr>\n",
              "      <th>4</th>\n",
              "      <td>twist mysteri</td>\n",
              "      <td>2</td>\n",
              "    </tr>\n",
              "    <tr>\n",
              "      <th>...</th>\n",
              "      <td>...</td>\n",
              "      <td>...</td>\n",
              "    </tr>\n",
              "    <tr>\n",
              "      <th>109237</th>\n",
              "      <td>dull sens faster deeper recreat drug market</td>\n",
              "      <td>1</td>\n",
              "    </tr>\n",
              "    <tr>\n",
              "      <th>109238</th>\n",
              "      <td>bitter less matur</td>\n",
              "      <td>1</td>\n",
              "    </tr>\n",
              "    <tr>\n",
              "      <th>109239</th>\n",
              "      <td>play better film 's publicist peopl take mani ...</td>\n",
              "      <td>1</td>\n",
              "    </tr>\n",
              "    <tr>\n",
              "      <th>109240</th>\n",
              "      <td>faith</td>\n",
              "      <td>2</td>\n",
              "    </tr>\n",
              "    <tr>\n",
              "      <th>109241</th>\n",
              "      <td>extent</td>\n",
              "      <td>2</td>\n",
              "    </tr>\n",
              "  </tbody>\n",
              "</table>\n",
              "<p>108578 rows × 2 columns</p>\n",
              "</div>"
            ],
            "text/plain": [
              "                                                   Phrase  Sentiment\n",
              "0                                                     age          2\n",
              "1                                            gorgeou epic          4\n",
              "2                                    fan gross-out comedi          2\n",
              "3                   filmmak ascend liter olympu art world          4\n",
              "4                                           twist mysteri          2\n",
              "...                                                   ...        ...\n",
              "109237        dull sens faster deeper recreat drug market          1\n",
              "109238                                  bitter less matur          1\n",
              "109239  play better film 's publicist peopl take mani ...          1\n",
              "109240                                              faith          2\n",
              "109241                                             extent          2\n",
              "\n",
              "[108578 rows x 2 columns]"
            ]
          },
          "metadata": {
            "tags": []
          },
          "execution_count": 17
        }
      ]
    },
    {
      "cell_type": "code",
      "metadata": {
        "id": "C0iXJwq1OpQ_",
        "colab_type": "code",
        "outputId": "0bf55da4-3b52-4ace-8fb2-838c15cb1122",
        "colab": {
          "base_uri": "https://localhost:8080/",
          "height": 119
        }
      },
      "source": [
        "# Phrases associated to sentiment labels count\n",
        "print(ds_train.Sentiment.value_counts())"
      ],
      "execution_count": 18,
      "outputs": [
        {
          "output_type": "stream",
          "text": [
            "2    54977\n",
            "3    23021\n",
            "1    19191\n",
            "4     6468\n",
            "0     4921\n",
            "Name: Sentiment, dtype: int64\n"
          ],
          "name": "stdout"
        }
      ]
    },
    {
      "cell_type": "code",
      "metadata": {
        "id": "VFtevF-RG-Dz",
        "colab_type": "code",
        "outputId": "f6be258a-be2e-45a1-9271-b176e7006453",
        "colab": {
          "base_uri": "https://localhost:8080/",
          "height": 34
        }
      },
      "source": [
        "# Manually counting the number of '0' labelled sentiments\n",
        "count = 0\n",
        "for y in ds_train['Sentiment']:\n",
        "  if(y == 0):\n",
        "    count+=1\n",
        "print(count)"
      ],
      "execution_count": 19,
      "outputs": [
        {
          "output_type": "stream",
          "text": [
            "4921\n"
          ],
          "name": "stdout"
        }
      ]
    },
    {
      "cell_type": "code",
      "metadata": {
        "id": "dnRnfUzDM_v1",
        "colab_type": "code",
        "colab": {}
      },
      "source": [
        "# Saving similar labelled phrases together for resampling\n",
        "y0 = ds_train[ds_train['Sentiment'] == 0]\n",
        "y1 = ds_train[ds_train['Sentiment'] == 1]\n",
        "y2 = ds_train[ds_train['Sentiment'] == 2]\n",
        "y3 = ds_train[ds_train['Sentiment'] == 3]\n",
        "y4 = ds_train[ds_train['Sentiment'] == 4]"
      ],
      "execution_count": 0,
      "outputs": []
    },
    {
      "cell_type": "code",
      "metadata": {
        "id": "sWl4dOesOSNH",
        "colab_type": "code",
        "colab": {}
      },
      "source": [
        "# Randomly down sampling each label to match the count of the lowest label count\n",
        "y00 = resample(y0, replace = True, n_samples = count, random_state = 2003)\n",
        "y01 = resample(y1, replace = True, n_samples = count, random_state = 2003)\n",
        "y02 = resample(y2, replace = True, n_samples = count, random_state = 2003)\n",
        "y03 = resample(y3, replace = True, n_samples = count, random_state = 2003)\n",
        "y04 = resample(y4, replace = True, n_samples = count, random_state = 2003)"
      ],
      "execution_count": 0,
      "outputs": []
    },
    {
      "cell_type": "code",
      "metadata": {
        "id": "E-GmvRiRTXNq",
        "colab_type": "code",
        "outputId": "9b65bfdc-b87f-4726-a995-ea61687bb8d5",
        "colab": {
          "base_uri": "https://localhost:8080/",
          "height": 34
        }
      },
      "source": [
        "# Concatinating the new down sampled dataset\n",
        "ds_train = pd.concat([y00, y01, y02, y03, y04])\n",
        "\n",
        "# ds_train.Sentiment.value_counts()\n",
        "ds_train.shape"
      ],
      "execution_count": 22,
      "outputs": [
        {
          "output_type": "execute_result",
          "data": {
            "text/plain": [
              "(24605, 2)"
            ]
          },
          "metadata": {
            "tags": []
          },
          "execution_count": 22
        }
      ]
    },
    {
      "cell_type": "code",
      "metadata": {
        "id": "pkUrItsE1xX6",
        "colab_type": "code",
        "colab": {}
      },
      "source": [
        "# Transforming each text into vector of word counts using CountVectorizer\n",
        "vectorizer = CountVectorizer(max_features=20000, stop_words=\"english\",\n",
        "                             ngram_range=(1, 2))\n",
        "\n",
        "# Transforming each text into vector of word counts using TfidfVectorizer\n",
        "# vectorizer = TfidfVectorizer(max_features=20000, stop_words=\"english\",\n",
        "#                              ngram_range=(2, 2))\n",
        "\n",
        "x_train = vectorizer.fit_transform(ds_train[\"Phrase\"])\n",
        "y_train = ds_train[\"Sentiment\"]"
      ],
      "execution_count": 0,
      "outputs": []
    },
    {
      "cell_type": "code",
      "metadata": {
        "id": "rAJgZRtGcotE",
        "colab_type": "code",
        "outputId": "f6b33cd3-56c4-4d8d-d9da-ff9d18eef379",
        "colab": {
          "base_uri": "https://localhost:8080/",
          "height": 34
        }
      },
      "source": [
        "x_train.shape\n",
        "# x_test.shape\n",
        "# X.shape[1]\n",
        "# y_train.shape"
      ],
      "execution_count": 24,
      "outputs": [
        {
          "output_type": "execute_result",
          "data": {
            "text/plain": [
              "(24605, 20000)"
            ]
          },
          "metadata": {
            "tags": []
          },
          "execution_count": 24
        }
      ]
    },
    {
      "cell_type": "code",
      "metadata": {
        "id": "pFvd3qzwI5al",
        "colab_type": "code",
        "outputId": "0049028b-2378-40fa-e783-12fb69c368d6",
        "colab": {
          "base_uri": "https://localhost:8080/",
          "height": 34
        }
      },
      "source": [
        "# Converting into numpy arrays\n",
        "x_train_np = x_train.toarray()\n",
        "y_train_np = np.array(y_train)\n",
        "\n",
        "print(x_train_np.shape)"
      ],
      "execution_count": 25,
      "outputs": [
        {
          "output_type": "stream",
          "text": [
            "(24605, 20000)\n"
          ],
          "name": "stdout"
        }
      ]
    },
    {
      "cell_type": "code",
      "metadata": {
        "id": "OK4rEbGqjDm4",
        "colab_type": "code",
        "colab": {}
      },
      "source": [
        "# Creating a class to define our model\n",
        "class CNNMultipleClassifier(torch.nn.Module):\n",
        "  # The initialization method\n",
        "  def __init__(self, batchsize, inputs, outputs):\n",
        "    super(CNNMultipleClassifier, self).__init__()\n",
        "    self.batchsize = batchsize\n",
        "    self.inputs = inputs\n",
        "    self.outputs = outputs\n",
        "\n",
        "    # Defining the input layer (input channels, output channels, kernels)\n",
        "    self.input_layer = Conv1d(inputs, batchsize, 1)\n",
        "\n",
        "    # Maxpooling layer with kernel size\n",
        "    self.maxpooling_layer = MaxPool1d(1)\n",
        "\n",
        "    # Adding Conv1d layers\n",
        "    self.conv_layer1 = Conv1d(batchsize, 64, 1)\n",
        "    self.conv_layer2 = Conv1d(64, 128, 1)\n",
        "\n",
        "    # A Flatten layer\n",
        "    self.flatten_layer = Flatten()\n",
        "\n",
        "    # A Linear layer with (inputs, outputs)\n",
        "    self.linear_layer1 = Linear(128, 64)\n",
        "    # Adding a dropout layer for reducing overfitting\n",
        "    self.dropout_layer = Dropout(p=0.2)\n",
        "\n",
        "    # Lastly, an Output layer\n",
        "    self.output_layer = Linear(64, outputs)\n",
        "\n",
        "  # A method to feed the model\n",
        "  def feed(self, input):\n",
        "    # Reshape so that it can be fed to input layer\n",
        "    # Although 1D Conv, it expects a 3D array in 1D fashion\n",
        "    input = input.reshape((self.batchsize, self.inputs, 1))\n",
        "\n",
        "    # Run through the Relu\n",
        "    output = relu(self.input_layer(input))\n",
        "\n",
        "    # Get the output of MaxPooling\n",
        "    output = self.maxpooling_layer(output)\n",
        "\n",
        "    # Output of Conv1d layers and passing through Relu\n",
        "    output = relu(self.conv_layer1(output))\n",
        "    output = relu(self.conv_layer2(output))\n",
        "\n",
        "    # Output of flatten layer\n",
        "    output = self.flatten_layer(output)\n",
        "\n",
        "    # Output of Linear layer and pass through Relu\n",
        "    output = relu(self.linear_layer1(output))\n",
        "    # Output of Dropout layer\n",
        "    output = self.dropout_layer(output)\n",
        "\n",
        "    # Lastly, output of Output layer\n",
        "    output = self.output_layer(output)\n",
        "\n",
        "    # Get value between 0 and 1 using Sigmoid\n",
        "    # output = sigmoid(output)\n",
        "\n",
        "    # To get accuracy we get int values of 0 or 1\n",
        "    output_ = torch.round(output)\n",
        "\n",
        "    # Using Softmax\n",
        "    output = softmax(output)\n",
        "\n",
        "    return output, output_"
      ],
      "execution_count": 0,
      "outputs": []
    },
    {
      "cell_type": "code",
      "metadata": {
        "id": "zk77xGOspvP1",
        "colab_type": "code",
        "outputId": "9799a66e-072f-4c20-a08f-63166a540079",
        "colab": {
          "base_uri": "https://localhost:8080/",
          "height": 187
        }
      },
      "source": [
        "# Defining our model\n",
        "batchsize = 128\n",
        "\n",
        "# (batchsize, x_columns, y_columns)\n",
        "model = CNNMultipleClassifier(batchsize, x_train.shape[1], 5)\n",
        "\n",
        "# Set the model to use GPU\n",
        "model.cuda()"
      ],
      "execution_count": 27,
      "outputs": [
        {
          "output_type": "execute_result",
          "data": {
            "text/plain": [
              "CNNMultipleClassifier(\n",
              "  (input_layer): Conv1d(20000, 128, kernel_size=(1,), stride=(1,))\n",
              "  (maxpooling_layer): MaxPool1d(kernel_size=1, stride=1, padding=0, dilation=1, ceil_mode=False)\n",
              "  (conv_layer1): Conv1d(128, 64, kernel_size=(1,), stride=(1,))\n",
              "  (conv_layer2): Conv1d(64, 128, kernel_size=(1,), stride=(1,))\n",
              "  (flatten_layer): Flatten()\n",
              "  (linear_layer1): Linear(in_features=128, out_features=64, bias=True)\n",
              "  (dropout_layer): Dropout(p=0.2, inplace=False)\n",
              "  (output_layer): Linear(in_features=64, out_features=5, bias=True)\n",
              ")"
            ]
          },
          "metadata": {
            "tags": []
          },
          "execution_count": 27
        }
      ]
    },
    {
      "cell_type": "code",
      "metadata": {
        "id": "s7P2NSZrvCRC",
        "colab_type": "code",
        "colab": {}
      },
      "source": [
        "# Method to return L1Loss, Accuracy, Recall and Precision\n",
        "def model_loss(model, dataset, train = False, optimizer = None):\n",
        "  \n",
        "  # Using crossentropy loss for calculating the loss\n",
        "  cross_loss = CrossEntropyLoss()\n",
        "\n",
        "  avg_loss = 0\n",
        "  avg_accuracy = 0\n",
        "  avg_recall = 0\n",
        "  avg_precision = 0\n",
        "  count = 0\n",
        "\n",
        "  for input, output in iter(dataset):\n",
        "    # Get predictions for training dataset\n",
        "    predictions, predictions_ = model.feed(input)\n",
        "    # print(predictions)\n",
        "\n",
        "    # Converting to numpy\n",
        "    a = []\n",
        "    out = output.data.cpu().numpy()\n",
        "    for o in out:\n",
        "      a.append(int(o[0]))\n",
        "\n",
        "    # Taking out the max valued labels\n",
        "    pred, indices = torch.max(predictions, 1)\n",
        "\n",
        "    # Converting to long tensor type \n",
        "    a_list = torch.FloatTensor(a).cuda().long()\n",
        "\n",
        "    # Get the Loss\n",
        "    loss = cross_loss(predictions, a_list)\n",
        "\n",
        "    # Other metric performances using softmax returned output\n",
        "    accuracy = accuracy_score(a, indices.data.cpu())\n",
        "    recall = recall_score(a, indices.data.cpu(), average='macro', zero_division=0)\n",
        "    precision = precision_score(a, indices.data.cpu(), average='macro', zero_division=0)\n",
        "\n",
        "    if(train):\n",
        "      # Clear errors\n",
        "      optimizer.zero_grad()\n",
        "      # Compute the gradients for our optimizer\n",
        "      loss.backward()\n",
        "      # Using optimizer to update model's parameters based on gradients\n",
        "      optimizer.step()\n",
        "    \n",
        "    # Loss\n",
        "    avg_loss += loss.item()\n",
        "\n",
        "    # Other performance metrics\n",
        "    avg_accuracy += accuracy\n",
        "    avg_recall += recall\n",
        "    avg_precision += precision\n",
        "    count += 1\n",
        "  \n",
        "  return avg_loss/count, avg_accuracy/count, avg_recall/count, avg_precision/count"
      ],
      "execution_count": 0,
      "outputs": []
    },
    {
      "cell_type": "code",
      "metadata": {
        "id": "VxK3luOgycHn",
        "colab_type": "code",
        "outputId": "6b684154-c530-4d97-fc5c-c645f9b25bd0",
        "colab": {
          "base_uri": "https://localhost:8080/",
          "height": 1000
        }
      },
      "source": [
        "epoch_history = []\n",
        "f1_score_history = []\n",
        "loss_history = []\n",
        "accuracy_history = []\n",
        "\n",
        "# Training the model\n",
        "epochs = 50\n",
        "# optimizer = SGD(model.parameters(), lr=1e-3, momentum=0.9)\n",
        "optimizer = Adam(model.parameters(), lr=1e-3)\n",
        "# optimizer = Adamax(model.parameters(), lr=1e-3)\n",
        "\n",
        "# Convert training set to torch variables using GPU as float.\n",
        "# The reshape is to remove PyTorch warning\n",
        "inputs = torch.from_numpy(x_train_np).cuda().float()\n",
        "outputs = torch.from_numpy(y_train_np.reshape(y_train_np.shape[0], 1)).cuda().float()\n",
        "\n",
        "# Create DataLoader instance to work with batches\n",
        "tensor = TensorDataset(inputs, outputs)\n",
        "loader = DataLoader(tensor, batchsize, shuffle=True, drop_last=True)\n",
        "\n",
        "# Start training loop\n",
        "for epoch in range(epochs):\n",
        "  # Cycle through batches and get average loss and other metrics\n",
        "  avg_loss, avg_accuracy, avg_recall, avg_precision = model_loss(model, loader, train=True, optimizer=optimizer)\n",
        "  \n",
        "  # Get f1 score\n",
        "  f1 = (2 * (avg_precision * avg_recall)/(avg_precision + avg_recall))\n",
        "\n",
        "  # Saving the history for ploting on graph\n",
        "  epoch_history.append(epoch + 1)\n",
        "  f1_score_history.append(f1)\n",
        "  loss_history.append(avg_loss)\n",
        "  accuracy_history.append(avg_accuracy)\n",
        "\n",
        "  # Printing the loss and other metrics\n",
        "  print(\"Epoch \" + str(epoch + 1) + \n",
        "        \":\\n\\tLoss = \" + str(avg_loss) +\n",
        "        \"\\n\\tAccuracy = \" + str(avg_accuracy) +\n",
        "        \"\\n\\tRecall = \" + str(avg_recall) +\n",
        "        \"\\n\\tPrecision = \" + str(avg_precision) +\n",
        "        \"\\n\\tF1 Score = \" + str(f1))"
      ],
      "execution_count": 29,
      "outputs": [
        {
          "output_type": "stream",
          "text": [
            "/usr/local/lib/python3.6/dist-packages/ipykernel_launcher.py:64: UserWarning: Implicit dimension choice for softmax has been deprecated. Change the call to include dim=X as an argument.\n"
          ],
          "name": "stderr"
        },
        {
          "output_type": "stream",
          "text": [
            "Epoch 1:\n",
            "\tLoss = 1.4750205775101979\n",
            "\tAccuracy = 0.3989664713541667\n",
            "\tRecall = 0.39958640235859083\n",
            "\tPrecision = 0.32674051224008976\n",
            "\tF1 Score = 0.3595104715703943\n",
            "Epoch 2:\n",
            "\tLoss = 1.339122548699379\n",
            "\tAccuracy = 0.5596923828125\n",
            "\tRecall = 0.5598586754161601\n",
            "\tPrecision = 0.5577843285503955\n",
            "\tF1 Score = 0.5588195769880403\n",
            "Epoch 3:\n",
            "\tLoss = 1.2728646211326122\n",
            "\tAccuracy = 0.6290283203125\n",
            "\tRecall = 0.6288463927360441\n",
            "\tPrecision = 0.6346447731321562\n",
            "\tF1 Score = 0.6317322780467665\n",
            "Epoch 4:\n",
            "\tLoss = 1.230479013795654\n",
            "\tAccuracy = 0.6722412109375\n",
            "\tRecall = 0.6720050094261185\n",
            "\tPrecision = 0.6765285901995611\n",
            "\tF1 Score = 0.6742592127630921\n",
            "Epoch 5:\n",
            "\tLoss = 1.2069270604600508\n",
            "\tAccuracy = 0.6964925130208334\n",
            "\tRecall = 0.696721898515705\n",
            "\tPrecision = 0.6996655194984922\n",
            "\tF1 Score = 0.6981906063923161\n",
            "Epoch 6:\n",
            "\tLoss = 1.1921152354528506\n",
            "\tAccuracy = 0.71142578125\n",
            "\tRecall = 0.7123660673164195\n",
            "\tPrecision = 0.7139975615830035\n",
            "\tF1 Score = 0.7131808813869609\n",
            "Epoch 7:\n",
            "\tLoss = 1.1843682192265987\n",
            "\tAccuracy = 0.71923828125\n",
            "\tRecall = 0.7199175365366998\n",
            "\tPrecision = 0.7222726510951029\n",
            "\tF1 Score = 0.721093170850182\n",
            "Epoch 8:\n",
            "\tLoss = 1.1754666045308113\n",
            "\tAccuracy = 0.7283528645833334\n",
            "\tRecall = 0.728291658450649\n",
            "\tPrecision = 0.7321763903515109\n",
            "\tF1 Score = 0.7302288578580823\n",
            "Epoch 9:\n",
            "\tLoss = 1.1692662369459867\n",
            "\tAccuracy = 0.734619140625\n",
            "\tRecall = 0.7339416394097852\n",
            "\tPrecision = 0.7368766128107417\n",
            "\tF1 Score = 0.7354061977848734\n",
            "Epoch 10:\n",
            "\tLoss = 1.1633130895594757\n",
            "\tAccuracy = 0.740478515625\n",
            "\tRecall = 0.7414507159873799\n",
            "\tPrecision = 0.743274918299878\n",
            "\tF1 Score = 0.7423616964941298\n",
            "Epoch 11:\n",
            "\tLoss = 1.1582073600341876\n",
            "\tAccuracy = 0.7460530598958334\n",
            "\tRecall = 0.7458381699394283\n",
            "\tPrecision = 0.7492862609836898\n",
            "\tF1 Score = 0.7475582394273227\n",
            "Epoch 12:\n",
            "\tLoss = 1.1566122937947512\n",
            "\tAccuracy = 0.7479654947916666\n",
            "\tRecall = 0.7479290855588507\n",
            "\tPrecision = 0.7503814024626999\n",
            "\tF1 Score = 0.7491532371309446\n",
            "Epoch 13:\n",
            "\tLoss = 1.1525498361637194\n",
            "\tAccuracy = 0.7515869140625\n",
            "\tRecall = 0.7504627871261146\n",
            "\tPrecision = 0.7537614754401735\n",
            "\tF1 Score = 0.7521085143541846\n",
            "Epoch 14:\n",
            "\tLoss = 1.147921783849597\n",
            "\tAccuracy = 0.7565511067708334\n",
            "\tRecall = 0.7568103773672111\n",
            "\tPrecision = 0.7591221120493353\n",
            "\tF1 Score = 0.7579644820581295\n",
            "Epoch 15:\n",
            "\tLoss = 1.1453000511974096\n",
            "\tAccuracy = 0.7593180338541666\n",
            "\tRecall = 0.7604406011067907\n",
            "\tPrecision = 0.7621988807165058\n",
            "\tF1 Score = 0.7613187257182217\n",
            "Epoch 16:\n",
            "\tLoss = 1.1427829923729103\n",
            "\tAccuracy = 0.7617594401041666\n",
            "\tRecall = 0.7619238143100527\n",
            "\tPrecision = 0.7647595556438995\n",
            "\tF1 Score = 0.7633390513500334\n",
            "Epoch 17:\n",
            "\tLoss = 1.14420132090648\n",
            "\tAccuracy = 0.7601318359375\n",
            "\tRecall = 0.7601008307496969\n",
            "\tPrecision = 0.7621781956135557\n",
            "\tF1 Score = 0.7611380957526586\n",
            "Epoch 18:\n",
            "\tLoss = 1.1434912600864966\n",
            "\tAccuracy = 0.76123046875\n",
            "\tRecall = 0.7609798720929857\n",
            "\tPrecision = 0.7636936037181399\n",
            "\tF1 Score = 0.7623343228509789\n",
            "Epoch 19:\n",
            "\tLoss = 1.1408735364675522\n",
            "\tAccuracy = 0.7635498046875\n",
            "\tRecall = 0.7634363898665358\n",
            "\tPrecision = 0.7665483272146362\n",
            "\tF1 Score = 0.7649891937527451\n",
            "Epoch 20:\n",
            "\tLoss = 1.139024119824171\n",
            "\tAccuracy = 0.7657063802083334\n",
            "\tRecall = 0.7656061729359517\n",
            "\tPrecision = 0.7695067364412678\n",
            "\tF1 Score = 0.7675514992239119\n",
            "Epoch 21:\n",
            "\tLoss = 1.1372666992247105\n",
            "\tAccuracy = 0.7675374348958334\n",
            "\tRecall = 0.768341807050812\n",
            "\tPrecision = 0.7703091351044197\n",
            "\tF1 Score = 0.7693242133590636\n",
            "Epoch 22:\n",
            "\tLoss = 1.1378995074580114\n",
            "\tAccuracy = 0.7666015625\n",
            "\tRecall = 0.7671469028902536\n",
            "\tPrecision = 0.7686215533967679\n",
            "\tF1 Score = 0.7678835201610972\n",
            "Epoch 23:\n",
            "\tLoss = 1.1357280313968658\n",
            "\tAccuracy = 0.7690836588541666\n",
            "\tRecall = 0.7691093001256423\n",
            "\tPrecision = 0.7729850877378924\n",
            "\tF1 Score = 0.771042323370752\n",
            "Epoch 24:\n",
            "\tLoss = 1.1367029926429193\n",
            "\tAccuracy = 0.7677001953125\n",
            "\tRecall = 0.7671622028690752\n",
            "\tPrecision = 0.7715223879014456\n",
            "\tF1 Score = 0.7693361176365422\n",
            "Epoch 25:\n",
            "\tLoss = 1.135922634974122\n",
            "\tAccuracy = 0.7684733072916666\n",
            "\tRecall = 0.7683271671592152\n",
            "\tPrecision = 0.7722080279125861\n",
            "\tF1 Score = 0.7702627092736153\n",
            "Epoch 26:\n",
            "\tLoss = 1.1352839500953753\n",
            "\tAccuracy = 0.7693684895833334\n",
            "\tRecall = 0.7691610327347966\n",
            "\tPrecision = 0.7723112118912886\n",
            "\tF1 Score = 0.7707329034329256\n",
            "Epoch 27:\n",
            "\tLoss = 1.1330117440472047\n",
            "\tAccuracy = 0.7715657552083334\n",
            "\tRecall = 0.7714944323078252\n",
            "\tPrecision = 0.7741009480543887\n",
            "\tF1 Score = 0.7727954923470479\n",
            "Epoch 28:\n",
            "\tLoss = 1.1310262717306614\n",
            "\tAccuracy = 0.7735188802083334\n",
            "\tRecall = 0.7730163578967547\n",
            "\tPrecision = 0.7763605644497024\n",
            "\tF1 Score = 0.7746848520716253\n",
            "Epoch 29:\n",
            "\tLoss = 1.1292865425348282\n",
            "\tAccuracy = 0.775146484375\n",
            "\tRecall = 0.7752486850582628\n",
            "\tPrecision = 0.7786955138216639\n",
            "\tF1 Score = 0.7769682767066463\n",
            "Epoch 30:\n",
            "\tLoss = 1.1286369698743026\n",
            "\tAccuracy = 0.7762044270833334\n",
            "\tRecall = 0.7766889939726628\n",
            "\tPrecision = 0.7801768420277542\n",
            "\tF1 Score = 0.7784290110855039\n",
            "Epoch 31:\n",
            "\tLoss = 1.1284458159158628\n",
            "\tAccuracy = 0.7762044270833334\n",
            "\tRecall = 0.775188426004162\n",
            "\tPrecision = 0.7790330232360336\n",
            "\tF1 Score = 0.7771059695294115\n",
            "Epoch 32:\n",
            "\tLoss = 1.1274453836182754\n",
            "\tAccuracy = 0.7773030598958334\n",
            "\tRecall = 0.7782118831881535\n",
            "\tPrecision = 0.7809735133085498\n",
            "\tF1 Score = 0.7795902525478791\n",
            "Epoch 33:\n",
            "\tLoss = 1.1258457625905673\n",
            "\tAccuracy = 0.7784830729166666\n",
            "\tRecall = 0.7784768120988107\n",
            "\tPrecision = 0.7813102576945193\n",
            "\tF1 Score = 0.7798909613357927\n",
            "Epoch 34:\n",
            "\tLoss = 1.1248776509116094\n",
            "\tAccuracy = 0.7794596354166666\n",
            "\tRecall = 0.7795364459514973\n",
            "\tPrecision = 0.7819459456936343\n",
            "\tF1 Score = 0.7807393367913533\n",
            "Epoch 35:\n",
            "\tLoss = 1.1223451166103284\n",
            "\tAccuracy = 0.7825520833333334\n",
            "\tRecall = 0.7824111474722412\n",
            "\tPrecision = 0.7855122501781753\n",
            "\tF1 Score = 0.7839586320816392\n",
            "Epoch 36:\n",
            "\tLoss = 1.1224262503286202\n",
            "\tAccuracy = 0.7822265625\n",
            "\tRecall = 0.7815996980988914\n",
            "\tPrecision = 0.7840800853817882\n",
            "\tF1 Score = 0.7828379269959719\n",
            "Epoch 37:\n",
            "\tLoss = 1.1243841915080945\n",
            "\tAccuracy = 0.7803141276041666\n",
            "\tRecall = 0.7806940680619082\n",
            "\tPrecision = 0.7834026756817073\n",
            "\tF1 Score = 0.7820460265708322\n",
            "Epoch 38:\n",
            "\tLoss = 1.1248288185646136\n",
            "\tAccuracy = 0.7799072265625\n",
            "\tRecall = 0.7799069740396901\n",
            "\tPrecision = 0.7831938251697337\n",
            "\tF1 Score = 0.7815469438485775\n",
            "Epoch 39:\n",
            "\tLoss = 1.1270492356270552\n",
            "\tAccuracy = 0.7777506510416666\n",
            "\tRecall = 0.777850827042204\n",
            "\tPrecision = 0.780418941331142\n",
            "\tF1 Score = 0.779132767989871\n",
            "Epoch 40:\n",
            "\tLoss = 1.1267240730424721\n",
            "\tAccuracy = 0.7778727213541666\n",
            "\tRecall = 0.7772401568376922\n",
            "\tPrecision = 0.7810775019445547\n",
            "\tF1 Score = 0.779154104674893\n",
            "Epoch 41:\n",
            "\tLoss = 1.1235754725833733\n",
            "\tAccuracy = 0.7810872395833334\n",
            "\tRecall = 0.781480185692441\n",
            "\tPrecision = 0.7847049180215323\n",
            "\tF1 Score = 0.7830892320391154\n",
            "Epoch 42:\n",
            "\tLoss = 1.1238658210883539\n",
            "\tAccuracy = 0.7805989583333334\n",
            "\tRecall = 0.7805848037162356\n",
            "\tPrecision = 0.7830060376533517\n",
            "\tF1 Score = 0.7817935460339506\n",
            "Epoch 43:\n",
            "\tLoss = 1.1222996575136979\n",
            "\tAccuracy = 0.7822672526041666\n",
            "\tRecall = 0.7812111371019933\n",
            "\tPrecision = 0.7844263513582872\n",
            "\tF1 Score = 0.782815442826466\n",
            "Epoch 44:\n",
            "\tLoss = 1.121927123516798\n",
            "\tAccuracy = 0.7823893229166666\n",
            "\tRecall = 0.783060708710044\n",
            "\tPrecision = 0.785096913169137\n",
            "\tF1 Score = 0.784077488965147\n",
            "Epoch 45:\n",
            "\tLoss = 1.1223121993243694\n",
            "\tAccuracy = 0.7823486328125\n",
            "\tRecall = 0.7816722278926654\n",
            "\tPrecision = 0.7860097462881567\n",
            "\tF1 Score = 0.7838349864901167\n",
            "Epoch 46:\n",
            "\tLoss = 1.1211450286209583\n",
            "\tAccuracy = 0.78369140625\n",
            "\tRecall = 0.784140139719001\n",
            "\tPrecision = 0.7867883260266472\n",
            "\tF1 Score = 0.7854620007881452\n",
            "Epoch 47:\n",
            "\tLoss = 1.1195531866202753\n",
            "\tAccuracy = 0.7850748697916666\n",
            "\tRecall = 0.7851075371000609\n",
            "\tPrecision = 0.7882012871241768\n",
            "\tF1 Score = 0.7866513703414681\n",
            "Epoch 48:\n",
            "\tLoss = 1.1247904331733782\n",
            "\tAccuracy = 0.77978515625\n",
            "\tRecall = 0.7802997134709516\n",
            "\tPrecision = 0.7823458714118625\n",
            "\tF1 Score = 0.781321452802285\n",
            "Epoch 49:\n",
            "\tLoss = 1.1211908583839734\n",
            "\tAccuracy = 0.783447265625\n",
            "\tRecall = 0.7837637034762466\n",
            "\tPrecision = 0.7869205535327376\n",
            "\tF1 Score = 0.7853389560965957\n",
            "Epoch 50:\n",
            "\tLoss = 1.1228922487547\n",
            "\tAccuracy = 0.7816569010416666\n",
            "\tRecall = 0.7812224330359195\n",
            "\tPrecision = 0.7852887770184007\n",
            "\tF1 Score = 0.7832503273268546\n"
          ],
          "name": "stdout"
        }
      ]
    },
    {
      "cell_type": "code",
      "metadata": {
        "id": "Yrry5fT7kMtf",
        "colab_type": "code",
        "outputId": "fe622f40-3a37-43a7-cd3b-4f77c7ecbb10",
        "colab": {
          "base_uri": "https://localhost:8080/",
          "height": 71
        }
      },
      "source": [
        "# Saving model\n",
        "torch.save(model, '1101352_1dconv_reg.pt') "
      ],
      "execution_count": 30,
      "outputs": [
        {
          "output_type": "stream",
          "text": [
            "/usr/local/lib/python3.6/dist-packages/torch/serialization.py:360: UserWarning: Couldn't retrieve source code for container of type CNNMultipleClassifier. It won't be checked for correctness upon loading.\n",
            "  \"type \" + obj.__name__ + \". It won't be checked \"\n"
          ],
          "name": "stderr"
        }
      ]
    },
    {
      "cell_type": "code",
      "metadata": {
        "id": "XvUFQ1m3kSOu",
        "colab_type": "code",
        "outputId": "14a3c14d-16e5-4f12-cdab-c359425244c2",
        "colab": {
          "base_uri": "https://localhost:8080/",
          "height": 187
        }
      },
      "source": [
        "# Loading model\n",
        "model = torch.load('1101352_1dconv_reg.pt')\n",
        "model.eval()"
      ],
      "execution_count": 31,
      "outputs": [
        {
          "output_type": "execute_result",
          "data": {
            "text/plain": [
              "CNNMultipleClassifier(\n",
              "  (input_layer): Conv1d(20000, 128, kernel_size=(1,), stride=(1,))\n",
              "  (maxpooling_layer): MaxPool1d(kernel_size=1, stride=1, padding=0, dilation=1, ceil_mode=False)\n",
              "  (conv_layer1): Conv1d(128, 64, kernel_size=(1,), stride=(1,))\n",
              "  (conv_layer2): Conv1d(64, 128, kernel_size=(1,), stride=(1,))\n",
              "  (flatten_layer): Flatten()\n",
              "  (linear_layer1): Linear(in_features=128, out_features=64, bias=True)\n",
              "  (dropout_layer): Dropout(p=0.2, inplace=False)\n",
              "  (output_layer): Linear(in_features=64, out_features=5, bias=True)\n",
              ")"
            ]
          },
          "metadata": {
            "tags": []
          },
          "execution_count": 31
        }
      ]
    },
    {
      "cell_type": "code",
      "metadata": {
        "id": "bAaCWLgm_ClT",
        "colab_type": "code",
        "colab": {
          "base_uri": "https://localhost:8080/",
          "height": 542
        },
        "outputId": "e65e72dd-6185-4343-f30c-e15a070d83c6"
      },
      "source": [
        "# Plotting Accuracy and F1 score together\n",
        "plt.plot(epoch_history, accuracy_history, label='Accuracy')\n",
        "plt.plot(epoch_history, f1_score_history, label='F1 score')\n",
        "plt.xlabel('Epoch')\n",
        "plt.ylabel('Metrics')\n",
        "plt.legend()\n",
        "plt.show()\n",
        "\n",
        "# Graph for Loss w.r.t Epoch\n",
        "plt.plot(epoch_history, loss_history, label='Loss', color='red')\n",
        "plt.xlabel('Epoch')\n",
        "plt.ylabel('Loss')\n",
        "plt.legend()\n",
        "plt.show()"
      ],
      "execution_count": 32,
      "outputs": [
        {
          "output_type": "display_data",
          "data": {
            "image/png": "[encoded data removed]",
            "text/plain": [
              "<Figure size 432x288 with 1 Axes>"
            ]
          },
          "metadata": {
            "tags": []
          }
        },
        {
          "output_type": "display_data",
          "data": {
            "image/png": "[encoded data removed]",
            "text/plain": [
              "<Figure size 432x288 with 1 Axes>"
            ]
          },
          "metadata": {
            "tags": []
          }
        }
      ]
    },
    {
      "cell_type": "code",
      "metadata": {
        "id": "_tsxK3pjmGML",
        "colab_type": "code",
        "colab": {}
      },
      "source": [
        "# Pre-processing for the Testing set\n",
        "X, Y = [], []\n",
        "\n",
        "# For every single label save the Sentiment label\n",
        "for y in range(len(test_ds)):\n",
        "  label = test_ds['Sentiment'][y]\n",
        "  temp_phrase = []\n",
        "\n",
        "  # Splitting the pharase to words and setting the text to lowercase\n",
        "  space = str(test_ds['Phrase'][y]).lower().split(' ')\n",
        "  # print(space)\n",
        "\n",
        "  # For each word in the Phrase\n",
        "  for word in space:\n",
        "    new_word = word\n",
        "\n",
        "    # Giving conditional procedures according to stopwords and punctuations\n",
        "    if(word in stopwords_en):\n",
        "      continue\n",
        "    if(word in punctuations):\n",
        "      continue\n",
        "    \n",
        "    # Condition specifying if stemming is used or not\n",
        "    if(use_stemming):\n",
        "      # Using either Porter or Lancaster stemming\n",
        "      new_word = porter_stemmer.stem(new_word)\n",
        "      # new_word = lancaster_stemmer.stem(new_word)\n",
        "    \n",
        "    # Condition specifying if lemmatization is used or not\n",
        "    if(use_lemmatization):\n",
        "      new_word = wordnet_lemmatizer.lemmatize(new_word)\n",
        "\n",
        "    # Adding normalized word to a temporary variable\n",
        "    temp_phrase.append(new_word)\n",
        "\n",
        "  # if(not temp_phrase == []):\n",
        "  X.append(temp_phrase)\n",
        "  Y.append(label)"
      ],
      "execution_count": 0,
      "outputs": []
    },
    {
      "cell_type": "code",
      "metadata": {
        "id": "T_ub9ioknD5q",
        "colab_type": "code",
        "outputId": "47d16241-751b-467c-edd2-c038a0fc68ad",
        "colab": {
          "base_uri": "https://localhost:8080/",
          "height": 34
        }
      },
      "source": [
        "len(X)"
      ],
      "execution_count": 34,
      "outputs": [
        {
          "output_type": "execute_result",
          "data": {
            "text/plain": [
              "46818"
            ]
          },
          "metadata": {
            "tags": []
          },
          "execution_count": 34
        }
      ]
    },
    {
      "cell_type": "code",
      "metadata": {
        "id": "0UI1_e7XnDKw",
        "colab_type": "code",
        "colab": {}
      },
      "source": [
        "# Joining the phrase\n",
        "for i in range(len(X)):\n",
        "  X[i] = ' '.join(X[i])"
      ],
      "execution_count": 0,
      "outputs": []
    },
    {
      "cell_type": "code",
      "metadata": {
        "id": "uCwqARV7nMni",
        "colab_type": "code",
        "outputId": "0630eb58-b2b3-427b-f9d3-2d2a1af2fb3b",
        "colab": {
          "base_uri": "https://localhost:8080/",
          "height": 34
        }
      },
      "source": [
        "X[2]"
      ],
      "execution_count": 36,
      "outputs": [
        {
          "output_type": "execute_result",
          "data": {
            "text/plain": [
              "'worthwhil glimps'"
            ]
          },
          "metadata": {
            "tags": []
          },
          "execution_count": 36
        }
      ]
    },
    {
      "cell_type": "code",
      "metadata": {
        "id": "I5b4DQaqnN1O",
        "colab_type": "code",
        "outputId": "f9b88d01-a3e3-43be-af3f-6fe7ed17459d",
        "colab": {
          "base_uri": "https://localhost:8080/",
          "height": 34
        }
      },
      "source": [
        "len(X)"
      ],
      "execution_count": 37,
      "outputs": [
        {
          "output_type": "execute_result",
          "data": {
            "text/plain": [
              "46818"
            ]
          },
          "metadata": {
            "tags": []
          },
          "execution_count": 37
        }
      ]
    },
    {
      "cell_type": "code",
      "metadata": {
        "id": "DM-7RkNVnPUp",
        "colab_type": "code",
        "outputId": "05a3be3b-eee6-4023-efeb-e79303bb3424",
        "colab": {
          "base_uri": "https://localhost:8080/",
          "height": 34
        }
      },
      "source": [
        "# Merging two lists into a tuple using zip() method and converting the lists of\n",
        "# tuples to Pandas DataFrame and setting the column name\n",
        "ds_test = pd.DataFrame(list(zip(X, Y)), columns=['Phrase', 'Sentiment'])\n",
        "\n",
        "# Replacing the blank cells with NaN in the DataFrame\n",
        "ds_test['Phrase'].replace('', np.nan, inplace=True)\n",
        "\n",
        "# Dropping all the NaN values from the DataFrame\n",
        "ds_test.dropna(subset=['Phrase'], inplace=True)\n",
        "\n",
        "# ds_test.head()\n",
        "len(ds_test)"
      ],
      "execution_count": 38,
      "outputs": [
        {
          "output_type": "execute_result",
          "data": {
            "text/plain": [
              "46540"
            ]
          },
          "metadata": {
            "tags": []
          },
          "execution_count": 38
        }
      ]
    },
    {
      "cell_type": "code",
      "metadata": {
        "id": "UponSGNgns9N",
        "colab_type": "code",
        "outputId": "145d3c7a-26a9-46c0-ebd4-6d7dd5436116",
        "colab": {
          "base_uri": "https://localhost:8080/",
          "height": 119
        }
      },
      "source": [
        "print(ds_test.Sentiment.value_counts())"
      ],
      "execution_count": 39,
      "outputs": [
        {
          "output_type": "stream",
          "text": [
            "2    23730\n",
            "3     9859\n",
            "1     8062\n",
            "4     2738\n",
            "0     2151\n",
            "Name: Sentiment, dtype: int64\n"
          ],
          "name": "stdout"
        }
      ]
    },
    {
      "cell_type": "code",
      "metadata": {
        "id": "4IPQUnBQvXH1",
        "colab_type": "code",
        "outputId": "b175289d-4937-4c77-f078-43a884e948d2",
        "colab": {
          "base_uri": "https://localhost:8080/",
          "height": 34
        }
      },
      "source": [
        "ds_test.shape"
      ],
      "execution_count": 40,
      "outputs": [
        {
          "output_type": "execute_result",
          "data": {
            "text/plain": [
              "(46540, 2)"
            ]
          },
          "metadata": {
            "tags": []
          },
          "execution_count": 40
        }
      ]
    },
    {
      "cell_type": "code",
      "metadata": {
        "id": "-f0U-ivsoA3q",
        "colab_type": "code",
        "colab": {}
      },
      "source": [
        "# Vectorizing the phrases\n",
        "x_test = vectorizer.transform(ds_test[\"Phrase\"])\n",
        "y_test = ds_test[\"Sentiment\"]"
      ],
      "execution_count": 0,
      "outputs": []
    },
    {
      "cell_type": "code",
      "metadata": {
        "id": "YgnGrJw_obY0",
        "colab_type": "code",
        "outputId": "a73c79c9-12a5-4afd-8c1c-00d93007569a",
        "colab": {
          "base_uri": "https://localhost:8080/",
          "height": 34
        }
      },
      "source": [
        "# Converting to numpy arrays\n",
        "x_test_np = x_test.toarray()\n",
        "y_test_np = np.array(y_test)\n",
        "\n",
        "print(x_test_np.shape)"
      ],
      "execution_count": 42,
      "outputs": [
        {
          "output_type": "stream",
          "text": [
            "(46540, 20000)\n"
          ],
          "name": "stdout"
        }
      ]
    },
    {
      "cell_type": "code",
      "metadata": {
        "id": "FpyCtNwLqasd",
        "colab_type": "code",
        "outputId": "bf9a6451-bd18-4dec-b98b-476b5de26509",
        "colab": {
          "base_uri": "https://localhost:8080/",
          "height": 139
        }
      },
      "source": [
        "# Test the model\n",
        "inputs = torch.from_numpy(x_test_np).cuda().float()\n",
        "outputs = torch.from_numpy(y_test_np.reshape(y_test_np.shape[0], 1)).cuda().float()\n",
        "\n",
        "# Create DataLoader instance to work with batches\n",
        "tensor = TensorDataset(inputs, outputs)\n",
        "loader = DataLoader(tensor, batchsize, shuffle=True, drop_last=True)\n",
        "\n",
        "# Cycle through batches and get average loss and other metrics\n",
        "avg_loss, avg_accuracy, avg_recall, avg_precision = model_loss(model, loader)\n",
        "\n",
        "# Get f1 score\n",
        "f1 = (2 * (avg_recall * avg_precision)/(avg_recall + avg_precision))\n",
        "\n",
        "# Printing the loss and other metrics\n",
        "print(\"Testing Loss = \" + str(avg_loss) +\n",
        "    \"\\nTesting Accuracy = \" + str(avg_accuracy) + \n",
        "    \"\\nTesting Recall = \" + str(avg_recall) + \n",
        "    \"\\nTesting Precision = \" + str(avg_precision) + \n",
        "    \"\\nTesting F1 Score = \" + str(f1))"
      ],
      "execution_count": 43,
      "outputs": [
        {
          "output_type": "stream",
          "text": [
            "/usr/local/lib/python3.6/dist-packages/ipykernel_launcher.py:64: UserWarning: Implicit dimension choice for softmax has been deprecated. Change the call to include dim=X as an argument.\n"
          ],
          "name": "stderr"
        },
        {
          "output_type": "stream",
          "text": [
            "Testing Loss = 1.3765867074987448\n",
            "Testing Accuracy = 0.5275697314049587\n",
            "Testing Recall = 0.4969638533926106\n",
            "Testing Precision = 0.43905469981362255\n",
            "Testing F1 Score = 0.46621792852740385\n"
          ],
          "name": "stdout"
        }
      ]
    }
  ]
}